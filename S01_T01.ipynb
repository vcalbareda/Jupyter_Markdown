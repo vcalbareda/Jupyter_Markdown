{
 "cells": [
  {
   "cell_type": "markdown",
   "id": "d7a93af8",
   "metadata": {},
   "source": [
    "# This will print a mesage"
   ]
  },
  {
   "cell_type": "code",
   "execution_count": null,
   "id": "96d4a7e1",
   "metadata": {},
   "outputs": [],
   "source": [
    "print (\"Hello world\")"
   ]
  },
  {
   "cell_type": "markdown",
   "id": "b972e6c6",
   "metadata": {},
   "source": [
    "**Create a variable**"
   ]
  },
  {
   "cell_type": "code",
   "execution_count": null,
   "id": "d9c6a526",
   "metadata": {},
   "outputs": [],
   "source": [
    "X=3"
   ]
  },
  {
   "cell_type": "markdown",
   "id": "f8d2c1ab",
   "metadata": {},
   "source": [
    "* Simple Arithmetic Operators\n",
    " * Addition\n",
    " * Substraction\n",
    " * Multiplication\n",
    " * Divison\n",
    " * Modulus\n",
    " * Exponentiation\n",
    " * Floor Division"
   ]
  },
  {
   "cell_type": "code",
   "execution_count": 3,
   "id": "09a47646",
   "metadata": {},
   "outputs": [
    {
     "name": "stdout",
     "output_type": "stream",
     "text": [
      "7\n",
      "-3\n",
      "10\n",
      "0.4\n",
      "2\n",
      "32\n",
      "0\n"
     ]
    }
   ],
   "source": [
    " x = 2\n",
    " y = 5   \n",
    "print (x+y)\n",
    "print (x-y)\n",
    "print (x*y)\n",
    "print (x/y)\n",
    "print (x%y)\n",
    "print (x**y)\n",
    "print (x//y)\n",
    "    "
   ]
  },
  {
   "cell_type": "markdown",
   "id": "b8186e70",
   "metadata": {},
   "source": [
    "![Logo](https://upload.wikimedia.org/wikipedia/commons/c/c3/Python-logo-notext.svg)"
   ]
  },
  {
   "cell_type": "code",
   "execution_count": 4,
   "id": "6161d8cb",
   "metadata": {},
   "outputs": [
    {
     "name": "stdout",
     "output_type": "stream",
     "text": [
      "Y is grater than X\n"
     ]
    }
   ],
   "source": [
    " x, y = 2, 5\n",
    "    \n",
    "if y>x:\n",
    "    print (\"Y is grater than X\")\n",
    "    "
   ]
  },
  {
   "cell_type": "markdown",
   "id": "e1209637",
   "metadata": {},
   "source": [
    "* This is a Bullet point list:\n",
    " * item 1\n",
    " * item 2\n",
    "  * item 2.1"
   ]
  },
  {
   "cell_type": "code",
   "execution_count": 4,
   "id": "d6ae155b",
   "metadata": {},
   "outputs": [
    {
     "name": "stdout",
     "output_type": "stream",
     "text": [
      "Y is smaller than X\n"
     ]
    }
   ],
   "source": [
    "  x, y = 3, 1\n",
    "    \n",
    "if y>x:\n",
    "    print (\"Y is grater than X\")\n",
    "else:\n",
    "    print(\"Y is smaller than X\")    "
   ]
  }
 ],
 "metadata": {
  "kernelspec": {
   "display_name": "Python 3 (ipykernel)",
   "language": "python",
   "name": "python3"
  },
  "language_info": {
   "codemirror_mode": {
    "name": "ipython",
    "version": 3
   },
   "file_extension": ".py",
   "mimetype": "text/x-python",
   "name": "python",
   "nbconvert_exporter": "python",
   "pygments_lexer": "ipython3",
   "version": "3.9.7"
  },
  "latex_envs": {
   "LaTeX_envs_menu_present": true,
   "autoclose": false,
   "autocomplete": true,
   "bibliofile": "biblio.bib",
   "cite_by": "apalike",
   "current_citInitial": 1,
   "eqLabelWithNumbers": true,
   "eqNumInitial": 1,
   "hotkeys": {
    "equation": ""
   },
   "labels_anchors": false,
   "latex_user_defs": false,
   "report_style_numbering": false,
   "user_envs_cfg": false
  }
 },
 "nbformat": 4,
 "nbformat_minor": 5
}
